{
 "cells": [
  {
   "cell_type": "markdown",
   "id": "5ad4d04e-59b7-4df4-9e04-ed0a3c35dade",
   "metadata": {},
   "source": [
    "# POO"
   ]
  },
  {
   "cell_type": "markdown",
   "id": "ee889415-1abc-4eb5-b3ab-1b8a3b1fbde6",
   "metadata": {},
   "source": [
    "- **Atributos**  \n",
    "    - Atributos de Instância;\n",
    "    - Atributos de Classe;\n",
    "    - Atributos Dinâmicos;\n",
    "- **Métodos**   \n",
    "    - Métodos de Instância;\n",
    "    - Métodos de Classe;\n",
    "    - Métodos Estáticos;\n",
    "- **Getter e Setter**\n",
    "- **SOLID (S) - Responsabilidade Única**\n",
    "- **Associação de Classes**\n",
    "- **Herança**\n",
    "- **Polimorfismo**\n",
    "\n"
   ]
  },
  {
   "cell_type": "markdown",
   "id": "dc50b626-cb45-4f2b-990d-7c815206fe73",
   "metadata": {},
   "source": [
    "---"
   ]
  },
  {
   "cell_type": "markdown",
   "id": "c01642a2-5698-4a6e-86c6-31b2475f4fc9",
   "metadata": {},
   "source": [
    "## Atributos"
   ]
  },
  {
   "cell_type": "markdown",
   "id": "e5ac54fb-bb2c-4f47-8dce-4b4d6bf9006c",
   "metadata": {},
   "source": [
    "`Atributos de instância` são atributos pertencentes a uma instância específica de uma classe. São definidas dentro do método __init__() e são acessadas usando o ponto objeto.atributo.  \n",
    "`Atributos de classe` são atributos pertencentes a classe em si e são compartilhadas entre todas as instâncias. São definidas fora dos métodos e são acessadas usanodo o ponto Classe.atributo\n",
    "`Atributos dinâmicos` são atributos variáveis que não são definidos previamente na classe. Eles não são compartilhados entre as classes e não afetam as instâncias da classe."
   ]
  },
  {
   "cell_type": "code",
   "execution_count": 22,
   "id": "97163bbd-4869-446d-9578-6e3eba71d3f2",
   "metadata": {},
   "outputs": [],
   "source": [
    "class Lampada:\n",
    "    # atributo de classe que pertence a classe em si e pertence a todas as instâncias\n",
    "    cor='vermelho'\n",
    "    \n",
    "    def __init__(self):\n",
    "        # atributo de instância que é definido no construtor e pertence à instância\n",
    "        self.voltagem=10"
   ]
  },
  {
   "cell_type": "code",
   "execution_count": 39,
   "id": "02bc95a5-2022-439d-ba1e-bddd11b091da",
   "metadata": {},
   "outputs": [
    {
     "name": "stdout",
     "output_type": "stream",
     "text": [
      "Atributo de instância:\n",
      "10\n",
      "\n",
      "\n",
      "Atributo de classe:\n",
      "vermelho\n",
      "vermelho\n",
      "\n",
      "\n",
      "Atributo dinâmico:\n",
      "din1\n",
      "din2\n",
      "\n",
      "\n"
     ]
    }
   ],
   "source": [
    "led=Lampada()\n",
    "\n",
    "# atributo de instância\n",
    "print('Atributo de instância:')\n",
    "print(led.voltagem)\n",
    "print('\\n')\n",
    "\n",
    "# atributo de classe\n",
    "print('Atributo de classe:')\n",
    "print(Lampada.cor)\n",
    "print(led.cor)\n",
    "print('\\n')\n",
    "\n",
    "# atributo dinâmico\n",
    "print('Atributo dinâmico:')\n",
    "Lampada.din1='din1'\n",
    "led.din2='din2'\n",
    "print(Lampada.din1)\n",
    "print(led.din2)\n",
    "print('\\n')"
   ]
  },
  {
   "cell_type": "markdown",
   "id": "d0d58c5d-cdff-4cb7-85cf-2a2cd2099a6a",
   "metadata": {},
   "source": [
    "## Métodos"
   ]
  },
  {
   "cell_type": "markdown",
   "id": "a2db32dc-224a-40ae-8d9d-0704651b1516",
   "metadata": {},
   "source": [
    "`Métodos de instância` são métodos que operam em instâncias individuais da classe. Eles recebem a instância como seu primeiro argumento e são definidos dentro da classe sem uso de decoradores.  \n",
    "`Métodos de classe` são métodos que operam na própria classe, em vez de instâncias específicas. Eles recebem a classe como seu primeiro argumento e são definidos usando o decorador *@classmethod*  \n",
    "`Métodos estáticos` são métodos que não recebem uma referência para a instância nem para a classe. Eles são métodos que são chamados diretamente da classe, sem a necessidade de criar uma instância. São úteis quando você tem uma função associada à classe que não precisa acessar ou modificar atributos"
   ]
  },
  {
   "cell_type": "code",
   "execution_count": 52,
   "id": "46032ade-64f7-4ec6-bf86-9a27eb54316c",
   "metadata": {},
   "outputs": [],
   "source": [
    "class Produto:\n",
    "    def __init__(self,nome,preco):        \n",
    "        self.nome=nome\n",
    "        self.preco=preco\n",
    "\n",
    "    # método de instância\n",
    "    def desconto(self):\n",
    "        return self.preco*0.9\n",
    "\n",
    "    # método declasse  \n",
    "    @classmethod\n",
    "    def documentation(cls):\n",
    "        return \"Esse método...\"\n",
    "\n",
    "    @staticmethod\n",
    "    def metodo_estatico():\n",
    "        print('Estou no meu metodo estatico')"
   ]
  },
  {
   "cell_type": "code",
   "execution_count": 54,
   "id": "b706cc3d-3078-4089-a144-8d4eb0d8426d",
   "metadata": {},
   "outputs": [
    {
     "name": "stdout",
     "output_type": "stream",
     "text": [
      "Método de instância\n",
      "900.0\n",
      "\n",
      "\n",
      "Método de classe\n",
      "\n",
      "\n",
      "Método estático\n",
      "Estou no meu metodo estatico\n"
     ]
    }
   ],
   "source": [
    "p1=Produto('ps4',1000)\n",
    "\n",
    "print(\"Método de instância\")\n",
    "print(p1.desconto())\n",
    "print(\"\\n\")\n",
    "\n",
    "print(\"Método de classe\")\n",
    "Produto.documentation()\n",
    "print(\"\\n\")\n",
    "\n",
    "print(\"Método estático\")\n",
    "Produto.metodo_estatico()"
   ]
  },
  {
   "cell_type": "markdown",
   "id": "2561eec6-e7cf-464e-ae04-15c38b13f5d3",
   "metadata": {},
   "source": [
    "## Getter / Setters"
   ]
  },
  {
   "cell_type": "markdown",
   "id": "dc147711-f3c0-4954-8f52-671082a57e7e",
   "metadata": {},
   "source": [
    "`Getters` e `Setters` são métodos para acessar(getter)e modificar(setter) os atributos de instância de uma classe de forma controlada"
   ]
  },
  {
   "cell_type": "code",
   "execution_count": 61,
   "id": "457511e1-08bf-44ad-ba77-d1555c1bf1c2",
   "metadata": {},
   "outputs": [],
   "source": [
    "class Alarme:\n",
    "    def __init__(self,estado: bool) -> None:\n",
    "        self.__estado=estado\n",
    "\n",
    "    def get_estado(self) -> bool:\n",
    "        return self.__estado\n",
    "\n",
    "    def set_estado(self,valor: bool) -> None:\n",
    "        self.__estado=valor"
   ]
  },
  {
   "cell_type": "code",
   "execution_count": 67,
   "id": "c047bd52-ad6c-4e3d-86c3-9b9eeeb59e70",
   "metadata": {},
   "outputs": [
    {
     "data": {
      "text/plain": [
       "False"
      ]
     },
     "execution_count": 67,
     "metadata": {},
     "output_type": "execute_result"
    }
   ],
   "source": [
    "alarme=Alarme(True)\n",
    "#a.__estado  #AttributeError: 'Alarme' object has no attribute '__estado'\n",
    "\n",
    "alarme.set_estado(False)\n",
    "alarme.get_estado()"
   ]
  },
  {
   "cell_type": "markdown",
   "id": "1d15ecf4-57a0-47fa-926c-10a6c8b47ca8",
   "metadata": {},
   "source": [
    "## SOLID (S) - Responsabilidade Única\n"
   ]
  },
  {
   "cell_type": "markdown",
   "id": "48536ac7-0777-430d-8f05-e4c80968d62c",
   "metadata": {},
   "source": [
    "`Single Responsibility Principle - SRP` estabele que uma classe deve ter apenas uma responsabilidade. Isso promove a coesão e reduz o acoplamento entre as classes, tornando o código mais module, flexível e fácil de entender."
   ]
  },
  {
   "cell_type": "code",
   "execution_count": 72,
   "id": "8e5e53cf-57da-490f-a876-09263cbe0410",
   "metadata": {},
   "outputs": [],
   "source": [
    "# Sem usar o SRP\n",
    "# Aqui, um única classe verifica e armazena os dados\n",
    "class SistemaCadastral:\n",
    "    def cadastrar(self,nome:str,idade:int) -> None:\n",
    "        if isinstance(nome,str) and isinstance(idade,int):\n",
    "            print('acessando o banco de dados...')\n",
    "            print(f'Cadastrar o Usuario {nome}, Idade {idade}')\n",
    "        else:\n",
    "            print('dados inválidos')\n",
    "\n",
    "\n",
    "# Usando o SRP\n",
    "class SistemaCadastral:\n",
    "    def cadastrar(self,nome:str,idade:int) -> None:\n",
    "        if self.__verificar_dados(nome,idade):\n",
    "            self.__armazenar_usuario(nome,idade)\n",
    "        else:\n",
    "            print('dados inválidos')\n",
    "\n",
    "    def __verificar_dados(self,nome:str,idade:int) -> None:\n",
    "        if isinstance(nome,str) and isinstance(idade,int):\n",
    "            return True\n",
    "        else:\n",
    "            return False\n",
    "\n",
    "    def __armazenar_usuario(self,nome:str, idade:int) -> None:\n",
    "        print('Acessando o banco de dados...')\n",
    "        print(f'Cadastrar o Usuario {nome}, Idade {idade}')"
   ]
  },
  {
   "cell_type": "markdown",
   "id": "56a35b6a-8727-4eaa-b624-564f62a201c0",
   "metadata": {},
   "source": [
    "## Associação de classes"
   ]
  },
  {
   "cell_type": "markdown",
   "id": "8a33f16c-9074-41fc-bd49-3bd1754f86d1",
   "metadata": {},
   "source": [
    "Um dos tipos de relacionamento entre classe. Na associação, uma classe \"possui\" ou \"usa\" outra classe, o que significa que uma classe pode ter uma referência a outra classe como um de seus atributos."
   ]
  },
  {
   "cell_type": "code",
   "execution_count": 82,
   "id": "71a42c2b-477f-4674-8fa0-5e1ab122b020",
   "metadata": {},
   "outputs": [
    {
     "name": "stdout",
     "output_type": "stream",
     "text": [
      "Ligando o motor do tipo Gasolina\n"
     ]
    }
   ],
   "source": [
    "class Carro:\n",
    "    def __init__(self,motor):\n",
    "        self.motor=motor\n",
    "\n",
    "    def ligar_carro(self,tipo_motor):\n",
    "        tipo_motor.ligar()\n",
    "        \n",
    "\n",
    "\n",
    "\n",
    "class Motor:\n",
    "    def __init__(self,tipo):\n",
    "        self.tipo=tipo\n",
    "\n",
    "    def ligar(self):\n",
    "        print(f'Ligando o motor do tipo {self.tipo}')\n",
    "\n",
    "# atributo\n",
    "motor=Motor('Gasolina')\n",
    "carro=Carro(motor)\n",
    "\n",
    "# método\n",
    "carro.ligar_carro(motor)\n"
   ]
  },
  {
   "cell_type": "markdown",
   "id": "d2411780-5ba8-4f40-add7-865e095b8954",
   "metadata": {},
   "source": [
    "## SOLID (O) - Princípio Aberto/Fechado"
   ]
  },
  {
   "cell_type": "markdown",
   "id": "7b007625-96fa-4835-be33-aa4789b55991",
   "metadata": {},
   "source": [
    "`Open/Closed Principle - OCP` estabele que as entidades de software, como classes, módulos e funções, devem estar abertas para extensão, mas fechadas para modificação. Em outras palavras, você deve ser capaz de estender o comportamento de uma classe sem modificar seu código-fonte existente."
   ]
  },
  {
   "cell_type": "code",
   "execution_count": 84,
   "id": "3e29269d-a04c-41cc-b4d7-7a512b6be7f8",
   "metadata": {},
   "outputs": [],
   "source": [
    "# Exemplo sem usar o OCP\n",
    "# Se quisermos adicionar mais shows, vamos precisar alterar a classe para suportar mais tipos\n",
    "# Nesse exemplo, a classe não é fechada para modificações porque precisariamos adicionar mais 'ifs'\n",
    "# Também não é aberta para extensões porque não oferece um jeito fácil de adicionar novos tipos\n",
    "\n",
    "class Circo:\n",
    "    def apresentar(self,tipo):\n",
    "        if tipo==1:\n",
    "            self.apresentar_malabarista()\n",
    "        if tipo==2:\n",
    "            self.apresentar_palhaco()\n",
    "\n",
    "    def apresentar_malabarista(self):\n",
    "        print('Malabarista apresentando o show')\n",
    "\n",
    "\n",
    "    def apresentar_palhaco(self):\n",
    "        print('Palhaco apresentando o show')\n",
    "\n",
    "\n",
    "# Exemplo usando o OCP\n",
    "# A classe Circo segue o princípio pois aceita qualquer objeto que tenha o método apresentar_show sem precisar modificar sua implementação.\n",
    "\n",
    "class Circo:\n",
    "\n",
    "    def apresentar(self,apresentador:any):\n",
    "        apresentador.apresentar_show()\n",
    "\n",
    "class Malabarista:\n",
    "    def apresentar_show(self):\n",
    "        print('Malabarista apresentando o show')\n",
    "\n",
    "\n",
    "class Palhaço:\n",
    "    def apresentar_show(self):\n",
    "        print('Palhaço apresentando o show')\n",
    "\n"
   ]
  },
  {
   "cell_type": "markdown",
   "id": "abe4db1f-784c-4c0a-b87c-5a72f742e25f",
   "metadata": {},
   "source": [
    "## Injeção de Dependência  "
   ]
  },
  {
   "cell_type": "markdown",
   "id": "a907ab93-f518-49d0-b634-913f9f267af3",
   "metadata": {},
   "source": [
    "A `injeção de dependências` envolve passar as dependências necessárias para um componente de fora (atributos), em vez de criá-las dentro do próprio componente."
   ]
  },
  {
   "cell_type": "code",
   "execution_count": 88,
   "id": "72250d4f-5eeb-472d-b9bf-7c1015b82baf",
   "metadata": {},
   "outputs": [
    {
     "name": "stdout",
     "output_type": "stream",
     "text": [
      "Acendendo luzes\n"
     ]
    }
   ],
   "source": [
    "# Exemplo sem injeção de dependência\n",
    "class Casa:\n",
    "    def acender_luzes(self) -> None:\n",
    "        print('Acendendo luzes')\n",
    "\n",
    "class Pessoa:\n",
    "    def __init__(self,nome:str) -> None:\n",
    "        self.nome=nome\n",
    "\n",
    "    def entrar_no_local(self,local:any) -> None:\n",
    "        local.acender_luzes()\n",
    "        \n",
    "ana=Pessoa('Ana')\n",
    "local=Casa()\n",
    "ana.entrar_no_local(local)"
   ]
  },
  {
   "cell_type": "code",
   "execution_count": 89,
   "id": "44f32f49-d972-4427-b791-70c150dd5674",
   "metadata": {},
   "outputs": [
    {
     "name": "stdout",
     "output_type": "stream",
     "text": [
      "Acendendo luzes\n"
     ]
    }
   ],
   "source": [
    "# Exemplo utilizando injeção de dependências\n",
    "# Estamos colocando as dependências nos atributos\n",
    "class Casa:\n",
    "    def acender_luzes(self) -> None:\n",
    "        print('Acendendo luzes')\n",
    "\n",
    "class Pessoa:\n",
    "    def __init__(self,nome:str,local:any) -> None:\n",
    "        self.nome=nome\n",
    "        self.local=local\n",
    "\n",
    "    def entrar_no_local(self) -> None:\n",
    "        self.local.acender_luzes()\n",
    "        \n",
    "local=Casa()\n",
    "ana=Pessoa('Ana',local)\n",
    "ana.entrar_no_local()"
   ]
  },
  {
   "cell_type": "markdown",
   "id": "e575d1ce-e77e-48d1-87e7-5f1b2cb0d84d",
   "metadata": {},
   "source": [
    "## Introdução à Herança"
   ]
  },
  {
   "cell_type": "markdown",
   "id": "d2346982-f45a-4bde-be89-bc04ced4ab2e",
   "metadata": {},
   "source": [
    "`Herança` permite criar uma nova classe com base em uma classe já existente. A classe resultante da herança, chamada de subclasse ou classe filha, herda atributos e métodos da classe original, chamada de superclasse ou classe mãe.  \n",
    "Em termos simples, herança permite que uma classe compartilhe características (atributos e métodos) de outra classe, evitando a duplicação de código e promovendo a reutilização."
   ]
  },
  {
   "cell_type": "code",
   "execution_count": 100,
   "id": "d8c030be-a73b-4698-8c38-9ce11f87ef8c",
   "metadata": {},
   "outputs": [
    {
     "name": "stdout",
     "output_type": "stream",
     "text": [
      "estou estudando\n"
     ]
    },
    {
     "data": {
      "text/plain": [
       "45"
      ]
     },
     "execution_count": 100,
     "metadata": {},
     "output_type": "execute_result"
    }
   ],
   "source": [
    "class Mae:\n",
    "    idade_mae=45\n",
    "    def __init__(self,endereco) -> None:\n",
    "        self.endereco=endereco\n",
    "        self.sobrenom='Silva'\n",
    "\n",
    "    def comer(self) -> None:\n",
    "        print('Estou comendo')\n",
    "\n",
    "    def estudar(self) -> None:\n",
    "        print('estou estudando')\n",
    "\n",
    "class Filha(Mae):\n",
    "\n",
    "    def __init__(self,endereco) -> None:\n",
    "        super().__init__(endereco)\n",
    "\n",
    "    def brincar(self,brinquedo:str) -> None:\n",
    "        print(f'Estou brincando com o {brinquedo}')\n",
    "\n",
    "mae=Mae('rua x')\n",
    "filha=Filha('rua y')\n",
    "filha.estudar()\n",
    "filha.idade_mae"
   ]
  },
  {
   "cell_type": "markdown",
   "id": "166309bd-8031-4d2b-8514-cac0d0042459",
   "metadata": {},
   "source": [
    "## Encapsulamento em Heranças"
   ]
  },
  {
   "cell_type": "markdown",
   "id": "9821a27c-2f52-4f79-a9ac-2faefff3b6c1",
   "metadata": {},
   "source": [
    "`Atributos Privados` são atributos que começam com \"__\". Não são acessíveis diretamente fora da classe onde são definido. Python utilizada uma técnica de \"name mangling\" (nomeação disfarçada\" para dificultar o acesso ao atributo.\n",
    "\n",
    "`Atributos Protegidos` são atributos que começam com \"_\". Embora seja possível acessar e modificar atributos protegidos de fora da classe, a conveção indica que eles devem ser tratados como **privados**\n",
    "\n",
    "##### Embora os atributos protegidos e privados aparentam ter a mesma finalidade, a principal diferença entre eles é que os atributos privados não são compartilhados entre as heranças, ou seja, não podem ser acessado, enquanto os atributos privados podem"
   ]
  },
  {
   "cell_type": "code",
   "execution_count": 114,
   "id": "c58b5054-7d61-4578-8dee-6c2eaf5d24b0",
   "metadata": {},
   "outputs": [
    {
     "name": "stdout",
     "output_type": "stream",
     "text": [
      "connection_string\n",
      "Connection ok\n"
     ]
    }
   ],
   "source": [
    "class DatabaseConn:\n",
    "    def __init__(self) -> None:\n",
    "        self.__database='Postgres'\n",
    "        self._conn='connection_string'\n",
    "        self.user='joao'\n",
    "        \n",
    "    def _protected_connection(self) -> None:\n",
    "        print('Connection ok')\n",
    "\n",
    "    def __privated_connection(self) -> None:\n",
    "        print('Connection ok')\n",
    "\n",
    "\n",
    "class Repository(DatabaseConn):\n",
    "\n",
    "    def __init__(self) -> None:\n",
    "        super().__init__()\n",
    "        # print(self.__database) # Error\n",
    "        print(self._conn)\n",
    "\n",
    "    def protected(self) -> None:\n",
    "        self._protected_connection()\n",
    "\n",
    "    def privated(self) -> None:\n",
    "        self.__privated_connection()\n",
    "\n",
    "    \n",
    "teste=Repository()\n",
    "\n",
    "# teste.privated() # Método privado ERror\n",
    "teste.protected()"
   ]
  },
  {
   "cell_type": "markdown",
   "id": "780e765c-3773-44b6-b018-aa19d542b596",
   "metadata": {},
   "source": [
    "## SOLID (L) - Princípio da Substituição de Liskov"
   ]
  },
  {
   "cell_type": "markdown",
   "id": "aff88803-71ad-40d5-bb95-f62c92e06c54",
   "metadata": {},
   "source": [
    "`Liskov Substitution Principle - LSP` estabelece que objetos de um tipo base devem ser substituíveis por objetos de subtipos sem afetar a corretude do programa. Em outras palavras, se S é um subtipo de T, então os objetos de tipo T podem ser substituídos por objetos de tipo S sem alterar as propriedades desejáveis do programa."
   ]
  },
  {
   "cell_type": "markdown",
   "id": "0bc79898-7ba0-4375-91d6-6d8c82723bde",
   "metadata": {},
   "source": [
    "## Polimorfismo"
   ]
  },
  {
   "cell_type": "markdown",
   "id": "d42c5b2b-97a3-4189-b51a-1efb6f061bdb",
   "metadata": {},
   "source": [
    "## Métodos e Classes Abstratas"
   ]
  },
  {
   "cell_type": "markdown",
   "id": "d07366d7-ca7a-449a-bb42-c861033629ec",
   "metadata": {},
   "source": [
    "## Interfaces\n"
   ]
  },
  {
   "cell_type": "markdown",
   "id": "912332e0-223c-4667-9ba7-4ee6e72dc498",
   "metadata": {},
   "source": [
    "## SOLID (I) - Princípio da Segregação de Interface"
   ]
  },
  {
   "cell_type": "markdown",
   "id": "550ab2ef-2f66-4c15-91d0-1801217d79cf",
   "metadata": {},
   "source": [
    "## SOLID (D) - Princípio da Inversão da Dependência"
   ]
  },
  {
   "cell_type": "markdown",
   "id": "e1acf2f3-1b67-4e8f-ae11-3709eb0e734a",
   "metadata": {},
   "source": [
    "## Agregação de Classes"
   ]
  },
  {
   "cell_type": "markdown",
   "id": "bbe51644-9ba8-4cdb-bd38-be73b699da61",
   "metadata": {},
   "source": [
    "## Composição de Classes"
   ]
  },
  {
   "cell_type": "code",
   "execution_count": null,
   "id": "3d4fa66f-4b94-45ba-9907-7a849b41f94c",
   "metadata": {},
   "outputs": [],
   "source": []
  }
 ],
 "metadata": {
  "kernelspec": {
   "display_name": "Python 3 (ipykernel)",
   "language": "python",
   "name": "python3"
  },
  "language_info": {
   "codemirror_mode": {
    "name": "ipython",
    "version": 3
   },
   "file_extension": ".py",
   "mimetype": "text/x-python",
   "name": "python",
   "nbconvert_exporter": "python",
   "pygments_lexer": "ipython3",
   "version": "3.11.9"
  }
 },
 "nbformat": 4,
 "nbformat_minor": 5
}
